{
 "cells": [
  {
   "cell_type": "code",
   "execution_count": 4,
   "metadata": {},
   "outputs": [],
   "source": [
    "import bs4 as bs\n",
    "from bs4 import BeautifulSoup\n",
    "import requests\n",
    "from selenium import webdriver\n",
    "from selenium.webdriver.firefox.options import Options\n",
    "import time\n",
    "#import global_config as global_config"
   ]
  },
  {
   "cell_type": "code",
   "execution_count": 35,
   "metadata": {
    "scrolled": false
   },
   "outputs": [
    {
     "name": "stdout",
     "output_type": "stream",
     "text": [
      "['https://www.flipkart.com/taparia-ws-05-diagonal-plier/product-reviews/itmf4fbr6npdzwvh?pid=PLIF4FBRE6KHJHXR&page=6', 'https://www.flipkart.com/taparia-ws-05-diagonal-plier/product-reviews/itmf4fbr6npdzwvh?pid=PLIF4FBRE6KHJHXR&page=2', 'https://www.flipkart.com/taparia-ws-05-diagonal-plier/product-reviews/itmf4fbr6npdzwvh?pid=PLIF4FBRE6KHJHXR&page=4', 'https://www.flipkart.com/taparia-ws-05-diagonal-plier/product-reviews/itmf4fbr6npdzwvh?pid=PLIF4FBRE6KHJHXR&page=5', 'https://www.flipkart.com/taparia-ws-05-diagonal-plier/product-reviews/itmf4fbr6npdzwvh?pid=PLIF4FBRE6KHJHXR&page=1', 'https://www.flipkart.com/taparia-ws-05-diagonal-plier/product-reviews/itmf4fbr6npdzwvh?pid=PLIF4FBRE6KHJHXR&page=3']\n",
      "6\n",
      "[['Terrific purchase', 'goodone'], ['Awesome', 'Super'], ['Awesome', 'awesome product thanks Flipkart value for money product'], ['Nice', 'Not bad'], ['Fabulous!', 'product are awsomeQuilty good'], ['Brilliant', 'very good.original taparia product'], ['Awesome', 'super'], ['Pretty good', 'Good'], ['Excellent Product', 'Very good Quality ItemVery Fast delivery Flipkart'], ['Moderate', \"worst product... I got for 49/-...product has  issue's.\"], ['Delightful', 'best quality only 49 rupess'], ['Good', 'ok'], ['Best in the market!', 'very happy to have this unique product'], ['Worth every penny', 'Happy with the price and quality of the product.'], ['Highly recommended', 'nice'], ['Simply awesome', 'very very good prodact...'], ['Excellent', 'Nice one'], ['Worth every penny', 'super'], ['Super!', 'Very nice'], ['Really Nice', 'nice product'], ['Perfect product!', 'nice'], ['Terrific purchase', 'nice product'], ['Not recommended at all', 'Average quality and Rate is high.'], ['Really Nice', 'very nice'], ['Classy product', 'excellent product'], ['Nice', 'good'], ['Simply awesome', 'thanks for taparia & standard quality, delivery boy is too good. 😊😊'], ['Great product', 'wery wery NAIC product'], ['Perfect product!', 'quality is very good'], ['Good', 'nothing special, just ok product'], ['Classy product', 'good'], ['Fabulous!', 'Awesome 👌 product'], ['Just wow!', 'ameging'], ['Could be way better', 'not bat'], ['Mind-blowing purchase', 'Small in size & easy to use. .......'], ['Fair', 'amazing great product'], ['Delightful', 'good'], ['Fabulous!', 'Good quality nice product'], ['Very Good', 'his mrp is 57 rupees good i bought in 54 rupees good product....than others'], ['Terrific', 'very nice quality'], ['Must buy!', 'wonderful.... Best product...'], ['Moderate', 'prise high'], ['Must buy!', 'Fantastic quality'], ['Pretty good', 'perfect'], ['Terrific purchase', 'awesome tools'], ['Delightful', 'good and  worthful'], ['Classy product', 'good'], ['Fabulous!', 'best product best quality'], ['Delightful', 'material is good'], ['Fabulous!', 'super'], ['Brilliant', 'Very Important Tools.'], ['Absolute rubbish!', 'Quality not good for rough use'], ['Does the job', 'Good quality product'], ['Wonderful', 'taparia is the best.'], ['Mind-blowing purchase', 'very good'], ['Worth every penny', 'nice'], ['Must buy!', 'thanks'], ['Super!', 'Very good']]\n"
     ]
    }
   ],
   "source": [
    "def navigate_page(main_url,page_url,nav_tag,nav_tag_class):\n",
    "    url_s = str(page_url)\n",
    "    driver = webdriver.Firefox(executable_path=\"geckodriver.exe\")\n",
    "    #r=requests.get(url_s)\n",
    "    driver.get(url_s)\n",
    "    page_src = driver.page_source\n",
    "    s = BeautifulSoup(page_src, 'lxml')\n",
    "    l=[]\n",
    "    #Added bellow 3 lines to work pages which doesn't have navigation\n",
    "    if(nav_tag =='NA' or nav_tag == 'na' or nav_tag_class == 'na' or nav_tag_class == 'na'):\n",
    "        l.append(page_url)\n",
    "        return list(l)\n",
    "    for paragraph in s.find_all(str(nav_tag), class_=str(nav_tag_class)):\n",
    "        #print(paragraph)\n",
    "        for a in paragraph(\"a\"):\n",
    "            if \"http\" in a['href']:\n",
    "                l.append(a['href'])\n",
    "            if \"http\" not in a['href'] and a['href']:\n",
    "                l.append(main_url+a['href'])\n",
    "    driver.close()\n",
    "    return list(set(l))\n",
    "\n",
    "def getproductlink(main_url,page_url,tag,tag_class,sub_tag,sub_tag_class,rt_tag,rt_class,rc_tag,rc_class):\n",
    "    try:\n",
    "        #data=requests.get(page_url)\n",
    "        #print(\"Page Title is : %s\" %driver.title)\n",
    "        driver = webdriver.Firefox(executable_path=\"geckodriver.exe\")\n",
    "        #r=requests.get(url_s)\n",
    "        driver.get(page_url)\n",
    "        page_src = driver.page_source\n",
    "    except Exception as error:\n",
    "        driver.close()\n",
    "        print('error: %s' %error)\n",
    "        print(\"Couldn't access url at indivisual_product_links.py\")\n",
    "\n",
    "    try:\n",
    "        soup = BeautifulSoup(page_src, 'lxml')\n",
    "        time.sleep(2)\n",
    "        driver.close()\n",
    "    except Exception as error:\n",
    "        driver.close()\n",
    "        print(\"Couldn't access page source at indivisual_product_links.py\")\n",
    "        print(error)\n",
    "    try:\n",
    "        tag_l = soup.find_all(str(tag),{\"class\":str(tag_class)})\n",
    "        st = '\\n\\n'.join(str(s) for s in tag_l)\n",
    "        lin = BeautifulSoup(str(st),'html.parser')\n",
    "        if tag_l:\n",
    "            link = lin.find_all(str(sub_tag),{\"class\":str(sub_tag_class)})\n",
    "    except:\n",
    "        print(\"Tag/link not found. Probable tag/class-mismatch error.\")\n",
    "        driver.close()\n",
    "    try:\n",
    "        l = []\n",
    "        if link:\n",
    "            for i in link:\n",
    "                review = []\n",
    "                revt = i.find_all(str(rt_tag),{\"class\":str(rt_class)})\n",
    "                if revt:\n",
    "                    if revt[0].find('p'):\n",
    "                        review.append(revt[0].find('p').text.strip())\n",
    "                    else:\n",
    "                        review.append(revt[0].text.strip())\n",
    "                revc = i.find_all(str(rc_tag),{\"class\":str(rc_class)})\n",
    "                if revc:\n",
    "                    if revc[0].find('p'):\n",
    "                        review.append(revc[0].find('p').text.strip(). rstrip('READ MORE'))\n",
    "                    else:\n",
    "                        review.append(revc[0].text.strip(). rstrip('READ MORE'))\n",
    "                l.append(review)\n",
    "                \n",
    "    except Exception as error:\n",
    "        print(error)\n",
    "        print(\"Cound not find the Sub_tag/link\")\n",
    "        driver.close()\n",
    "    #s=set(l)\n",
    "    j=0\n",
    "    if l:\n",
    "        for i in l:\n",
    "            #print(str(j)+\" : \"+i)\n",
    "            j += 1\n",
    "    return l\n",
    "\n",
    "def getproductlinks(main_url,page_url,tag,tag_class,sub_tag,sub_tag_class,rt_tag,rt_class,rc_tag,rc_class,nav_tag,nav_tag_class):\n",
    "    all_links=[]\n",
    "    prev_list=[main_url]\n",
    "    latest_links=navigate_page(main_url,page_url,nav_tag,nav_tag_class)\n",
    "\n",
    "    while prev_list[-1]!=latest_links[-1]:\n",
    "        prev_list=latest_links\n",
    "        all_links.extend(latest_links)\n",
    "        latest_links=navigate_page(main_url,prev_list[-1],nav_tag,nav_tag_class)\n",
    "\n",
    "    #print(all_links)\n",
    "    #print(len(all_links))\n",
    "\n",
    "    product_links=[]\n",
    "    for link in all_links:\n",
    "        product_links.extend(getproductlink(main_url,link,tag,tag_class,sub_tag,sub_tag_class,rt_tag,rt_class,rc_tag,rc_class))\n",
    "    return product_links\n",
    "\n",
    "\n",
    "main=\"https://www.flipkart.com\"\n",
    "url=str(\"https://www.flipkart.com/taparia-ws-05-diagonal-plier/product-reviews/itmf4fbr6npdzwvh?pid=PLIF4FBRE6KHJHXR\")\n",
    "tag=str(\"div\")\n",
    "tag_c=str(\"_1HmYoV _35HD7C col-9-12\")\n",
    "sub_tag_class=str(\"_1PBCrt\")\n",
    "sub_tag=str(\"div\")\n",
    "review_title_tag = \"p\"\n",
    "review_title_class = \"_2xg6Ul\"\n",
    "review_cont_tag = \"div\"\n",
    "review_cont_class = \"qwjRop\"\n",
    "nav_tag = \"nav\"\n",
    "nav_class = \"_1ypTlJ\"\n",
    "\n",
    "\n",
    "ans = getproductlinks(main,url,tag,tag_c,sub_tag,sub_tag_class,review_title_tag,review_title_class,review_cont_tag,review_cont_class,nav_tag,nav_class)\n",
    "print(ans)"
   ]
  },
  {
   "cell_type": "code",
   "execution_count": 40,
   "metadata": {},
   "outputs": [
    {
     "name": "stdout",
     "output_type": "stream",
     "text": [
      "{'a': 1, 'b': 2, 'c': 3}\n"
     ]
    },
    {
     "ename": "KeyError",
     "evalue": "'d'",
     "output_type": "error",
     "traceback": [
      "\u001b[1;31m---------------------------------------------------------------------------\u001b[0m",
      "\u001b[1;31mKeyError\u001b[0m                                  Traceback (most recent call last)",
      "\u001b[1;32m<ipython-input-40-7f5cc829943c>\u001b[0m in \u001b[0;36m<module>\u001b[1;34m()\u001b[0m\n\u001b[0;32m      3\u001b[0m \u001b[0md\u001b[0m\u001b[1;33m.\u001b[0m\u001b[0mupdate\u001b[0m\u001b[1;33m(\u001b[0m\u001b[0mb\u001b[0m\u001b[1;33m)\u001b[0m\u001b[1;33m\u001b[0m\u001b[0m\n\u001b[0;32m      4\u001b[0m \u001b[0mprint\u001b[0m\u001b[1;33m(\u001b[0m\u001b[0md\u001b[0m\u001b[1;33m)\u001b[0m\u001b[1;33m\u001b[0m\u001b[0m\n\u001b[1;32m----> 5\u001b[1;33m \u001b[0md\u001b[0m\u001b[1;33m[\u001b[0m\u001b[1;34m\"d\"\u001b[0m\u001b[1;33m]\u001b[0m\u001b[1;33m\u001b[0m\u001b[0m\n\u001b[0m\u001b[0;32m      6\u001b[0m \u001b[0md\u001b[0m\u001b[1;33m[\u001b[0m\u001b[1;34m\"d\"\u001b[0m\u001b[1;33m]\u001b[0m \u001b[1;33m=\u001b[0m \u001b[1;36m5\u001b[0m\u001b[1;33m\u001b[0m\u001b[0m\n\u001b[0;32m      7\u001b[0m \u001b[0mprint\u001b[0m\u001b[1;33m(\u001b[0m\u001b[0md\u001b[0m\u001b[1;33m)\u001b[0m\u001b[1;33m\u001b[0m\u001b[0m\n",
      "\u001b[1;31mKeyError\u001b[0m: 'd'"
     ]
    }
   ],
   "source": []
  }
 ],
 "metadata": {
  "kernelspec": {
   "display_name": "Python 3",
   "language": "python",
   "name": "python3"
  },
  "language_info": {
   "codemirror_mode": {
    "name": "ipython",
    "version": 3
   },
   "file_extension": ".py",
   "mimetype": "text/x-python",
   "name": "python",
   "nbconvert_exporter": "python",
   "pygments_lexer": "ipython3",
   "version": "3.7.0"
  }
 },
 "nbformat": 4,
 "nbformat_minor": 2
}
